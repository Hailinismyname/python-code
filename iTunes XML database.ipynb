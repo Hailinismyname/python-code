{
 "cells": [
  {
   "cell_type": "code",
   "execution_count": 3,
   "metadata": {},
   "outputs": [
    {
     "name": "stdout",
     "output_type": "stream",
     "text": [
      "Enter file name: \n",
      "Dict count: 404\n"
     ]
    },
    {
     "ename": "NameError",
     "evalue": "name 'pd' is not defined",
     "output_type": "error",
     "traceback": [
      "\u001b[1;31m---------------------------------------------------------------------------\u001b[0m",
      "\u001b[1;31mNameError\u001b[0m                                 Traceback (most recent call last)",
      "\u001b[1;32m<ipython-input-3-708f313667b2>\u001b[0m in \u001b[0;36m<module>\u001b[1;34m()\u001b[0m\n\u001b[0;32m     97\u001b[0m \u001b[1;33m\u001b[0m\u001b[0m\n\u001b[0;32m     98\u001b[0m \u001b[0mquery\u001b[0m\u001b[1;33m=\u001b[0m\u001b[1;34m'select * from Artist'\u001b[0m\u001b[1;33m\u001b[0m\u001b[0m\n\u001b[1;32m---> 99\u001b[1;33m \u001b[0mtable\u001b[0m\u001b[1;33m=\u001b[0m\u001b[0mshow_table\u001b[0m\u001b[1;33m(\u001b[0m\u001b[0mquery\u001b[0m\u001b[1;33m)\u001b[0m\u001b[1;33m\u001b[0m\u001b[0m\n\u001b[0m",
      "\u001b[1;32m<ipython-input-3-708f313667b2>\u001b[0m in \u001b[0;36mshow_table\u001b[1;34m(c)\u001b[0m\n\u001b[0;32m     57\u001b[0m \u001b[1;33m\u001b[0m\u001b[0m\n\u001b[0;32m     58\u001b[0m \u001b[1;32mdef\u001b[0m \u001b[0mshow_table\u001b[0m\u001b[1;33m(\u001b[0m\u001b[0mc\u001b[0m\u001b[1;33m)\u001b[0m\u001b[1;33m:\u001b[0m\u001b[1;33m\u001b[0m\u001b[0m\n\u001b[1;32m---> 59\u001b[1;33m     \u001b[0mtable\u001b[0m\u001b[1;33m=\u001b[0m\u001b[0mrun_query\u001b[0m\u001b[1;33m(\u001b[0m\u001b[0mc\u001b[0m\u001b[1;33m)\u001b[0m\u001b[1;33m\u001b[0m\u001b[0m\n\u001b[0m\u001b[0;32m     60\u001b[0m     \u001b[1;32mreturn\u001b[0m \u001b[0mtable\u001b[0m\u001b[1;33m\u001b[0m\u001b[0m\n\u001b[0;32m     61\u001b[0m \u001b[1;33m\u001b[0m\u001b[0m\n",
      "\u001b[1;32m<ipython-input-3-708f313667b2>\u001b[0m in \u001b[0;36mrun_query\u001b[1;34m(q)\u001b[0m\n\u001b[0;32m     48\u001b[0m \u001b[1;32mdef\u001b[0m \u001b[0mrun_query\u001b[0m\u001b[1;33m(\u001b[0m\u001b[0mq\u001b[0m\u001b[1;33m)\u001b[0m\u001b[1;33m:\u001b[0m\u001b[1;33m\u001b[0m\u001b[0m\n\u001b[0;32m     49\u001b[0m     \u001b[1;32mwith\u001b[0m \u001b[0msql\u001b[0m\u001b[1;33m.\u001b[0m\u001b[0mconnect\u001b[0m\u001b[1;33m(\u001b[0m\u001b[1;34m'trackdb.sqlite'\u001b[0m\u001b[1;33m)\u001b[0m \u001b[1;32mas\u001b[0m \u001b[0mconn\u001b[0m\u001b[1;33m:\u001b[0m\u001b[1;33m\u001b[0m\u001b[0m\n\u001b[1;32m---> 50\u001b[1;33m         \u001b[0mresult\u001b[0m\u001b[1;33m=\u001b[0m\u001b[0mpd\u001b[0m\u001b[1;33m.\u001b[0m\u001b[0mread_sql\u001b[0m\u001b[1;33m(\u001b[0m\u001b[0mq\u001b[0m\u001b[1;33m,\u001b[0m\u001b[0mconn\u001b[0m\u001b[1;33m)\u001b[0m\u001b[1;33m\u001b[0m\u001b[0m\n\u001b[0m\u001b[0;32m     51\u001b[0m         \u001b[1;32mreturn\u001b[0m \u001b[0mresult\u001b[0m\u001b[1;33m\u001b[0m\u001b[0m\n\u001b[0;32m     52\u001b[0m \u001b[1;33m\u001b[0m\u001b[0m\n",
      "\u001b[1;31mNameError\u001b[0m: name 'pd' is not defined"
     ]
    }
   ],
   "source": [
    "import xml.etree.ElementTree as ET\n",
    "import sqlite3 as sql\n",
    "\n",
    "conn = sql.connect('trackdb.sqlite')\n",
    "cur = conn.cursor()\n",
    "\n",
    "# Make some fresh tables using executescript()\n",
    "cur.executescript('''\n",
    "DROP TABLE IF EXISTS Artist;\n",
    "DROP TABLE IF EXISTS Album;\n",
    "DROP TABLE IF EXISTS Track;\n",
    "\n",
    "CREATE TABLE Artist (\n",
    "    id  INTEGER NOT NULL PRIMARY KEY AUTOINCREMENT UNIQUE,\n",
    "    name    TEXT UNIQUE\n",
    ");\n",
    "\n",
    "CREATE TABLE Album (\n",
    "    id  INTEGER NOT NULL PRIMARY KEY AUTOINCREMENT UNIQUE,\n",
    "    artist_id  INTEGER,\n",
    "    title   TEXT UNIQUE\n",
    ");\n",
    "\n",
    "CREATE TABLE Track (\n",
    "    id  INTEGER NOT NULL PRIMARY KEY \n",
    "        AUTOINCREMENT UNIQUE,\n",
    "    title TEXT  UNIQUE,\n",
    "    album_id  INTEGER,\n",
    "    len INTEGER, rating INTEGER, count INTEGER\n",
    ");\n",
    "''')\n",
    "\n",
    "\n",
    "fname = input('Enter file name: ')\n",
    "if ( len(fname) < 1 ) : fname = 'Library.xml'\n",
    "\n",
    "# <key>Track ID</key><integer>369</integer>\n",
    "# <key>Name</key><string>Another One Bites The Dust</string>\n",
    "# <key>Artist</key><string>Queen</string>\n",
    "def lookup(d, key):\n",
    "    found = False\n",
    "    for child in d:\n",
    "        if found : return child.text\n",
    "        if child.tag == 'key' and child.text == key :\n",
    "            found = True\n",
    "    return None\n",
    "\n",
    "\n",
    "stuff = ET.parse(fname)\n",
    "all = stuff.findall('dict/dict/dict')\n",
    "print('Dict count:', len(all))\n",
    "for entry in all:\n",
    "    if ( lookup(entry, 'Track ID') is None ) : continue\n",
    "\n",
    "    name = lookup(entry, 'Name')\n",
    "    artist = lookup(entry, 'Artist')\n",
    "    album = lookup(entry, 'Album')\n",
    "    count = lookup(entry, 'Play Count')\n",
    "    rating = lookup(entry, 'Rating')\n",
    "    length = lookup(entry, 'Total Time')\n",
    "\n",
    "    if name is None or artist is None or album is None : \n",
    "        continue\n",
    "\n",
    "    #print(name, artist, album, count, rating, length)\n",
    "\n",
    "    cur.execute('''INSERT OR IGNORE INTO Artist (name) \n",
    "        VALUES ( ? )''', ( artist, ) )\n",
    "    cur.execute('SELECT id FROM Artist WHERE name = ? ', (artist, ))\n",
    "    artist_id = cur.fetchone()[0]\n",
    "\n",
    "    cur.execute('''INSERT OR IGNORE INTO Album (title, artist_id) \n",
    "        VALUES ( ?, ? )''', ( album, artist_id ) )\n",
    "    cur.execute('SELECT id FROM Album WHERE title = ? ', (album, ))\n",
    "    album_id = cur.fetchone()[0]\n",
    "\n",
    "    cur.execute('''INSERT OR REPLACE INTO Track\n",
    "        (title, album_id, len, rating, count) \n",
    "        VALUES ( ?, ?, ?, ?, ? )''', \n",
    "        ( name, album_id, length, rating, count ) )\n",
    "\n",
    "    conn.commit()\n",
    "\n",
    "query='select * from Artist'\n",
    "table=show_table(query)"
   ]
  },
  {
   "cell_type": "code",
   "execution_count": null,
   "metadata": {
    "collapsed": true
   },
   "outputs": [],
   "source": []
  }
 ],
 "metadata": {
  "kernelspec": {
   "display_name": "Python 3",
   "language": "python",
   "name": "python3"
  },
  "language_info": {
   "codemirror_mode": {
    "name": "ipython",
    "version": 3
   },
   "file_extension": ".py",
   "mimetype": "text/x-python",
   "name": "python",
   "nbconvert_exporter": "python",
   "pygments_lexer": "ipython3",
   "version": "3.6.3"
  }
 },
 "nbformat": 4,
 "nbformat_minor": 2
}
