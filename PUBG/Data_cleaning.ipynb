{
 "cells": [
  {
   "cell_type": "code",
   "execution_count": null,
   "metadata": {
    "collapsed": true
   },
   "outputs": [],
   "source": [
    "import pandas as pd\n",
    "import matplotlib.pyplot as plt\n",
    "import re\n",
    "import datetime as dt\n",
    "\n",
    "PUBG=pd.read_csv('PUBG_analyzation2.csv')                 \n",
    "\n",
    "#cleanning the data\n",
    "def replace(x):\n",
    "    x = re.sub(re.compile('<img.*?>| {7}|'), \"\", x) #remove image and 7 spaces\n",
    "    x = re.sub(re.compile('<a.*?>|</a>'), \"\", x)  #remove the link\n",
    "    x = re.sub(re.compile('<tr>|<div>|<div></p>'), '\\n', x) #replace linefeed to '\\n'\n",
    "    x = re.sub(re.compile('<td>'), '\\t', x)  #replace tabs to '\\t'\n",
    "    x = re.sub(re.compile('<p.*?>') , \"\\n  \", x) #subsitute P to '\\n'and two spaces\n",
    "    x = re.sub(re.compile('<br>|<br><br>'), '\\n', x) #replace line break or double line break with '\\n'\n",
    "    x = re.sub(re.compile('<.*?>'), \"\", x) #remove other kind of symblols\n",
    "    return x.strip()\n",
    "\n",
    "clean_PUBG=PUBG.dropna(thresh=2)\n",
    "\n",
    "#topic cleaning\n",
    "clean_title=clean_PUBG['topic_title']\n",
    "title_clean=[]\n",
    "#clean_PUBG['topic_title']=clean_PUBG['topic_title'].apply(replace)\n",
    "#clean_PUBG['reply_num']=clean_PUBG['reply_num'].apply(replace)\n",
    "for each in clean_title:\n",
    "    each=str(each)\n",
    "    title = each.replace('\\r\\n\\t\\t', \" \")\n",
    "    title = title.rstrip()\n",
    "    title_clean.append(title)\n",
    "clean_PUBG['topic_title']=title_clean\n",
    "#clean_PUBG\n",
    "\n",
    "#content cleaning\n",
    "clean_content=clean_PUBG['content']\n",
    "content_cleaned=[]\n",
    "for each in clean_content:\n",
    "    each=str(each)\n",
    "    content = each.replace('\\r\\n\\t\\t', \" \")\n",
    "    content = content.rstrip()\n",
    "    content_cleaned.append(content)\n",
    "\n",
    "clean_PUBG['content'] = content_cleaned\n",
    "#clean_PUBG\n",
    "\n",
    "#convert datetime to more readable version. \n",
    "posting_time = clean_PUBG['posting_time']\n",
    "datetime_object = []\n",
    "for each in posting_time:\n",
    "    int_each = float(each)\n",
    "    datetime = dt.datetime.fromtimestamp(int_each)\n",
    "    datetime = datetime.strftime('%H:%M%p on %d %b, %Y')\n",
    "    datetime_object.append(datetime)\n",
    
    clean_PUBG = clean_PUBG.fillna(method='ffill')
    clean_PUBG['Country']=clean_PUBG['Country'].apply(replace)
    data=[]
    for each in clean_PUBG['Country']:
        each_rep = re.compile('\s+')
        after_rep = each_rep.sub(' ', each)
        data.append(after_rep)
    
    "\n",
    "clean_PUBG['posting_time'] = datetime_object\n",
    "clean_PUBG\n",
    "\n",
    "#save new cleaned data in newly csv file\n",
    "clean_PUBG.to_csv(\"D:\\dataquest\\PUBG\\PUBG_analyzation_clean.csv\", encoding='utf-8', index=False)\n"
   ]
  }
 ],
 "metadata": {
  "kernelspec": {
   "display_name": "Python 3",
   "language": "python",
   "name": "python3"
  },
  "language_info": {
   "codemirror_mode": {
    "name": "ipython",
    "version": 3
   },
   "file_extension": ".py",
   "mimetype": "text/x-python",
   "name": "python",
   "nbconvert_exporter": "python",
   "pygments_lexer": "ipython3",
   "version": "3.6.3"
  }
 },
 "nbformat": 4,
 "nbformat_minor": 2
}
